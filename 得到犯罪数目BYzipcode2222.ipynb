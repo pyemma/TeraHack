{
 "metadata": {
  "name": "",
  "signature": "sha256:46bd8399de5047325bae5cf7fafeb227fe0873f0f44498bc1627bc4ba0b1c202"
 },
 "nbformat": 3,
 "nbformat_minor": 0,
 "worksheets": [
  {
   "cells": [
    {
     "cell_type": "code",
     "collapsed": false,
     "input": [
      "#!/usr/bin/python\n",
      "\n",
      "import json\n",
      "import urllib2\n",
      "import base64\n",
      "import zlib\n",
      "\n",
      "# Overall WS Access Variables\n",
      "dbsAlias = 'HackSys'\n",
      "wsHost = '153.64.73.150'\n",
      "wsPort =  '1080'\n",
      "path = '/tdrest/systems/' + dbsAlias + '/queries'\n",
      "\n",
      "def rest_request ( query ,wsUser,wsPass):\n",
      "    url = 'http://' + wsHost + ':' + wsPort + path\n",
      "   \n",
      "    headers={}\n",
      "    headers['Content-Type'] = 'application/json'\n",
      "    headers['Accept'] = 'application/vnd.com.teradata.rest-v1.0+json'\n",
      "    headers['Authorization'] = \"Basic %s\" % base64.encodestring('%s:%s' % (wsUser, wsPass)).replace('\\n', '');\n",
      "\n",
      "    # Set query bands\n",
      "    queryBands = {}\n",
      "    queryBands['applicationName'] = 'MyApp'\n",
      "    queryBands['version'] = '1.0'\n",
      "\n",
      "    # Set request fields. including SQL\n",
      "    data = {}\n",
      "    data['query'] = query\n",
      "    data['queryBands'] = queryBands\n",
      "    data['format'] = 'array'\n",
      "\n",
      "    # Build request.\n",
      "    request = urllib2.Request(url, json.dumps(data), headers)\n",
      "\n",
      "    #Submit request\n",
      "    try:\n",
      "        response = urllib2.urlopen(request);\n",
      "        # Check if result have been compressed.\n",
      "        if response.info().get('Content-Encoding') == 'gzip':\n",
      "            response = zlib.decompress(response.read(), 16+zlib.MAX_WBITS)\n",
      "        else:\n",
      "            response = response.read();\n",
      "    except urllib2.HTTPError, e:\n",
      "        print 'HTTPError = ' + str(e.code)\n",
      "        response = e.read();\n",
      "    except urllib2.URLError, e:\n",
      "        print 'URLError = ' + str(e.reason)\n",
      "        response = e.read();\n",
      "\n",
      "    # Parse response to confirm value JSON.\n",
      "    results = json.loads(response);\n",
      "\n",
      "#     print json.dumps(results, indent=4, sort_keys=True) \n",
      "\n",
      "    return results;\n",
      "\n",
      "def perform_query( query, wsUser, wsPass ):\n",
      "    results = rest_request(query, wsUser, wsPass)\n",
      "    \n",
      "    return results;\n",
      "\n",
      "wsUser = 'hack_user14'\n",
      "wsPass = 'tdhackathon'\n",
      "ret = perform_query ( 'select * from crime_data.portland_crime', wsUser, wsPass)\n"
     ],
     "language": "python",
     "metadata": {},
     "outputs": [],
     "prompt_number": 1
    },
    {
     "cell_type": "code",
     "collapsed": false,
     "input": [
      "data = ret['results'][0]['data']"
     ],
     "language": "python",
     "metadata": {},
     "outputs": [],
     "prompt_number": 2
    },
    {
     "cell_type": "code",
     "collapsed": false,
     "input": [
      "crime_by_zipcode = {}\n",
      "for i in range(0, len(data)):\n",
      "    zipcode = data[i][4][-5:]\n",
      "    try:\n",
      "        zipcode = int(zipcode)\n",
      "        if zipcode not in crime_by_zipcode:\n",
      "            crime_by_zipcode[zipcode] = []\n",
      "        t_data = []\n",
      "        t_data.append(data[i][3])\n",
      "        t_data.append(data[i][8])\n",
      "        t_data.append(data[i][9])\n",
      "        crime_by_zipcode[zipcode].append(t_data)\n",
      "    except:\n",
      "        pass\n",
      "    "
     ],
     "language": "python",
     "metadata": {},
     "outputs": [],
     "prompt_number": 47
    },
    {
     "cell_type": "code",
     "collapsed": false,
     "input": [
      "import json\n",
      "with open('data.txt', 'w') as f:\n",
      "    json.dump(data, f)\n"
     ],
     "language": "python",
     "metadata": {},
     "outputs": [],
     "prompt_number": 3
    },
    {
     "cell_type": "code",
     "collapsed": false,
     "input": [],
     "language": "python",
     "metadata": {},
     "outputs": []
    }
   ],
   "metadata": {}
  }
 ]
}